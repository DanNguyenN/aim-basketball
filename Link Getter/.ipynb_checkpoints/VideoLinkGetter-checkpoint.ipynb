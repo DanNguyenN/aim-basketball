{
 "cells": [
  {
   "cell_type": "code",
   "execution_count": 1,
   "metadata": {
    "collapsed": true
   },
   "outputs": [],
   "source": [
    "import requests\n",
    "import csv\n",
    "import time\n",
    "import pandas as pd\n",
    "import numpy as mp\n",
    "\n",
    "from selenium import webdriver\n",
    "from selenium.webdriver.chrome.service import Service as BraveService\n",
    "from webdriver_manager.chrome import ChromeDriverManager\n",
    "from webdriver_manager.core.utils import ChromeType\n",
    "\n",
    "from selenium.webdriver.support.ui import WebDriverWait\n",
    "from selenium.webdriver.common.by import By\n",
    "from selenium.webdriver.support import expected_conditions as EC\n",
    "import os\n",
    "import time\n"
   ]
  },
  {
   "cell_type": "markdown",
   "metadata": {},
   "source": []
  },
  {
   "cell_type": "code",
   "execution_count": null,
   "metadata": {
    "pycharm": {
     "is_executing": true
    }
   },
   "outputs": [],
   "source": [
    "fileName = \"MISS\" #This will be for later, in case we want to save\n",
    "wantedLink = \"FGA\" #This is the category we want\n",
    "NUMLINKS = 5\n",
    "NUMVIDS = 5 #Number of video per each link\n",
    "LINK_INDEX = 1\n",
    "\n",
    "wantedFilterOn = True #Wanted Filter Bool, set to False if wanted list is empty.\n",
    "#The title must have ALL substring in wanted list and NONE substring in unwanted list to get included.\n",
    "wantedTitleStrList = [\"MISS\"] #List of substring to look for in the title.\n",
    "unWantedTitleStrList = [\"BLOCK\"] #List of substring that will ignore in the title.\n",
    "\n",
    "\n",
    "###########################################################################################################\n",
    "linksClassDf = pd.DataFrame()\n",
    "categoryDf = pd.read_csv('CategoryLinks.csv')\n",
    "# Putting the wanted category in the wanted string\n",
    "wantedDf = categoryDf[categoryDf['links'].str.contains(wantedLink)==True]\n",
    "main_url = \"https://www.nba.com\" + wantedDf[\"links\"].loc[wantedDf.index[LINK_INDEX - 1]]\n",
    "\n",
    "linkUsed = 0\n",
    "for index, row in wantedDf.iterrows():\n",
    "    main_url = \"https://www.nba.com/\" + row[\"links\"]\n",
    "    driver = webdriver.Chrome(service=BraveService(ChromeDriverManager(chrome_type=ChromeType.BRAVE).install()))\n",
    "    wait = WebDriverWait(driver, 5)\n",
    "\n",
    "    driver.get(main_url)\n",
    "    #This is to set the page to list all the video\n",
    "    all = None\n",
    "    while all is None:\n",
    "        try:\n",
    "            # connect\n",
    "            all = wait.until(EC.presence_of_element_located((By.XPATH, \"//option[@value = '-1']\")))\n",
    "        except:\n",
    "             pass\n",
    "\n",
    "    all.click()\n",
    "\n",
    "    wait.until(EC.presence_of_element_located((By.XPATH,\"//tr[@data-has-video='true']\")))\n",
    "    AllVidElement = driver.find_elements(By.XPATH, '//tr[@data-has-video=\"true\"]')\n",
    "    print(len(AllVidElement))\n",
    "    vidDown = 0\n",
    "    vidList = []\n",
    "    for vidButton in AllVidElement:\n",
    "        driver.execute_script(\"arguments[0].click();\", vidButton)\n",
    "        videoElement = wait.until(EC.presence_of_element_located((By.XPATH, \"//video\")))\n",
    "        vidLinks = videoElement.get_attribute(\"src\")\n",
    "        titleElement = driver.find_element(By.TAG_NAME, 'h2')\n",
    "        titleString = titleElement.text\n",
    "        unwantedBool = any(ele in titleString for ele in unWantedTitleStrList)\n",
    "        wantedBool = (not wantedFilterOn or any(ele in titleString for ele in wantedTitleStrList))\n",
    "        if not wantedBool or unwantedBool:\n",
    "            continue\n",
    "\n",
    "        #add it to our dataframe\n",
    "        vidList.append({'Highlight' : vidLinks, 'Title' : titleString})\n",
    "        vidDown = vidDown + 1\n",
    "        if vidDown >= NUMVIDS:\n",
    "            break\n",
    "\n",
    "    vidDf = pd.DataFrame(vidList)\n",
    "    linksClassDf = pd.concat([vidDf])\n",
    "    driver.quit()\n",
    "    time.sleep(30)\n",
    "    if linkUsed >= NUMLINKS:\n",
    "        break\n",
    "\n"
   ]
  },
  {
   "cell_type": "markdown",
   "metadata": {},
   "source": [
    "The code below will save the links we got to a csv file"
   ]
  },
  {
   "cell_type": "code",
   "execution_count": 21,
   "metadata": {},
   "outputs": [],
   "source": [
    "linksClassDf.head(100)\n",
    "fileName = fileName + \".csv\"\n",
    "linksClassDf.to_csv(fileName)\n"
   ]
  },
  {
   "cell_type": "code",
   "execution_count": 21,
   "metadata": {},
   "outputs": [],
   "source": []
  },
  {
   "cell_type": "code",
   "execution_count": null,
   "metadata": {},
   "outputs": [],
   "source": []
  },
  {
   "cell_type": "code",
   "execution_count": null,
   "metadata": {},
   "outputs": [],
   "source": []
  }
 ],
 "metadata": {
  "kernelspec": {
   "display_name": "Python 3 (ipykernel)",
   "language": "python",
   "name": "python3"
  },
  "language_info": {
   "codemirror_mode": {
    "name": "ipython",
    "version": 2
   },
   "file_extension": ".py",
   "mimetype": "text/x-python",
   "name": "python",
   "nbconvert_exporter": "python",
   "pygments_lexer": "ipython2",
   "version": "2.7.6"
  }
 },
 "nbformat": 4,
 "nbformat_minor": 1
}
