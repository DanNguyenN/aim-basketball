{
 "cells": [
  {
   "cell_type": "code",
   "execution_count": 67,
   "metadata": {
    "collapsed": true
   },
   "outputs": [],
   "source": [
    "import requests\n",
    "import csv\n",
    "import pandas as pd\n",
    "import numpy as mp\n",
    "from selenium import webdriver\n",
    "from selenium.webdriver.chrome.options import Options\n",
    "from selenium.webdriver.chrome.service import Service\n",
    "from webdriver_manager.chrome import ChromeDriverManager\n",
    "\n",
    "from selenium.webdriver.support.ui import WebDriverWait\n",
    "from selenium.webdriver.common.by import By\n",
    "from selenium.webdriver.support import expected_conditions as EC\n",
    "import os\n",
    "import time\n",
    "\n",
    "options = Options()\n",
    "options.add_argument(\"--disable-features=PreloadMediaEngagementData, MediaEngagementBypassAutoplayPolicies\")\n",
    "options.add_argument(\"--incognito --window-size=1000,800\")\n",
    "options.add_argument(\"--disable-popup-blocking\")\n",
    "options.add_extension(\"AutoplayStopper.crx\")\n"
   ]
  },
  {
   "cell_type": "code",
   "execution_count": 69,
   "outputs": [
    {
     "name": "stdout",
     "output_type": "stream",
     "text": [
      "7010\n"
     ]
    },
    {
     "name": "stderr",
     "output_type": "stream",
     "text": [
      "C:\\Users\\danng\\AppData\\Local\\Temp\\ipykernel_25320\\2463889747.py:40: FutureWarning: The frame.append method is deprecated and will be removed from pandas in a future version. Use pandas.concat instead.\n",
      "  linksClassDf = linksClassDf.append([{'Highlight' : vidLinks, 'Title' : titleElement.text}], ignore_index = True)\n"
     ]
    },
    {
     "name": "stdout",
     "output_type": "stream",
     "text": [
      "3596\n"
     ]
    },
    {
     "name": "stderr",
     "output_type": "stream",
     "text": [
      "C:\\Users\\danng\\AppData\\Local\\Temp\\ipykernel_25320\\2463889747.py:40: FutureWarning: The frame.append method is deprecated and will be removed from pandas in a future version. Use pandas.concat instead.\n",
      "  linksClassDf = linksClassDf.append([{'Highlight' : vidLinks, 'Title' : titleElement.text}], ignore_index = True)\n"
     ]
    },
    {
     "name": "stdout",
     "output_type": "stream",
     "text": [
      "1138\n"
     ]
    },
    {
     "name": "stderr",
     "output_type": "stream",
     "text": [
      "C:\\Users\\danng\\AppData\\Local\\Temp\\ipykernel_25320\\2463889747.py:40: FutureWarning: The frame.append method is deprecated and will be removed from pandas in a future version. Use pandas.concat instead.\n",
      "  linksClassDf = linksClassDf.append([{'Highlight' : vidLinks, 'Title' : titleElement.text}], ignore_index = True)\n"
     ]
    },
    {
     "ename": "AttributeError",
     "evalue": "'NoneType' object has no attribute 'click'",
     "output_type": "error",
     "traceback": [
      "\u001B[1;31m---------------------------------------------------------------------------\u001B[0m",
      "\u001B[1;31mAttributeError\u001B[0m                            Traceback (most recent call last)",
      "Cell \u001B[1;32mIn[69], line 26\u001B[0m\n\u001B[0;32m     23\u001B[0m     \u001B[38;5;28;01mpass\u001B[39;00m\n\u001B[0;32m     25\u001B[0m \u001B[38;5;28mall\u001B[39m \u001B[38;5;241m=\u001B[39m driver\u001B[38;5;241m.\u001B[39mfind_element(By\u001B[38;5;241m.\u001B[39mXPATH, \u001B[38;5;124m\"\u001B[39m\u001B[38;5;124m//option[@value = \u001B[39m\u001B[38;5;124m'\u001B[39m\u001B[38;5;124m-1\u001B[39m\u001B[38;5;124m'\u001B[39m\u001B[38;5;124m]\u001B[39m\u001B[38;5;124m\"\u001B[39m)\n\u001B[1;32m---> 26\u001B[0m \u001B[38;5;28;43mall\u001B[39;49m\u001B[38;5;241;43m.\u001B[39;49m\u001B[43mclick\u001B[49m()\n\u001B[0;32m     29\u001B[0m wait\u001B[38;5;241m.\u001B[39muntil(EC\u001B[38;5;241m.\u001B[39mpresence_of_element_located((By\u001B[38;5;241m.\u001B[39mXPATH,\u001B[38;5;124m\"\u001B[39m\u001B[38;5;124m//tr[@data-has-video=\u001B[39m\u001B[38;5;124m'\u001B[39m\u001B[38;5;124mtrue\u001B[39m\u001B[38;5;124m'\u001B[39m\u001B[38;5;124m]\u001B[39m\u001B[38;5;124m\"\u001B[39m)))\n\u001B[0;32m     30\u001B[0m AllVidElement \u001B[38;5;241m=\u001B[39m driver\u001B[38;5;241m.\u001B[39mfind_elements(By\u001B[38;5;241m.\u001B[39mXPATH, \u001B[38;5;124m'\u001B[39m\u001B[38;5;124m//tr[@data-has-video=\u001B[39m\u001B[38;5;124m\"\u001B[39m\u001B[38;5;124mtrue\u001B[39m\u001B[38;5;124m\"\u001B[39m\u001B[38;5;124m]\u001B[39m\u001B[38;5;124m'\u001B[39m)\n",
      "\u001B[1;31mAttributeError\u001B[0m: 'NoneType' object has no attribute 'click'"
     ]
    }
   ],
   "source": [
    "NUMCAT = 6\n",
    "NUMVIDSPERCAT = 5\n",
    "linksClassDf = pd.DataFrame()\n",
    "\n",
    "\n",
    "driver = webdriver.Chrome(service=Service(ChromeDriverManager().install()), options=options)\n",
    "wait = WebDriverWait(driver, 5)\n",
    "\n",
    "categoryDf = pd.read_csv('CategoryLinks.csv')\n",
    "# Putting the wanted category in the wanted string\n",
    "wantedString = \"FGA\"\n",
    "wantedDf = categoryDf[categoryDf['links'].str.contains(wantedString)==True]\n",
    "\n",
    "linkUsed = 0\n",
    "\n",
    "for index, row in wantedDf.iterrows():\n",
    "\n",
    "    main_url = \"https://www.nba.com/\" + row[\"links\"]\n",
    "    driver.get(main_url)\n",
    "    #This is to set the page to list all the video\n",
    "    try:\n",
    "        closePopUp = wait.until(EC.presence_of_element_located((By.XPATH, \"//button[@aria-label='Close Message']\")))\n",
    "        closePopUp.click()\n",
    "    except:\n",
    "        pass\n",
    "\n",
    "    all = driver.find_element(By.XPATH, \"//option[@value = '-1']\")\n",
    "    driver.execute_script(\"arguments[0].click();\", all)\n",
    "\n",
    "\n",
    "    wait.until(EC.presence_of_element_located((By.XPATH,\"//tr[@data-has-video='true']\")))\n",
    "    AllVidElement = driver.find_elements(By.XPATH, '//tr[@data-has-video=\"true\"]')\n",
    "    print(len(AllVidElement))\n",
    "\n",
    "    for vidButton in AllVidElement:\n",
    "        driver.execute_script(\"arguments[0].click();\", vidButton)\n",
    "        videoElement = wait.until(EC.presence_of_element_located((By.XPATH, \"//video\")))\n",
    "        vidLinks = videoElement.get_attribute(\"src\")\n",
    "        titleElement = driver.find_element(By.TAG_NAME, 'h2')\n",
    "\n",
    "        #add it to our dataframe\n",
    "        linksClassDf = linksClassDf.append([{'Highlight' : vidLinks, 'Title' : titleElement.text}], ignore_index = True)\n",
    "        vidDown = vidDown + 1\n",
    "        if (vidDown >= NUMVIDSPERCAT):\n",
    "            break\n",
    "\n",
    "    linkUsed = linkUsed + 1\n",
    "    if (linkUsed >= NUMCAT):\n",
    "        break;\n",
    "\n",
    "driver.close()\n",
    "\n",
    "\n",
    "\n",
    "\n",
    "\n",
    "# html = driver.page_source\n",
    "# soup = BeautifulSoup(html, \"html.parser\")\n",
    "# all_data = soup.find_all('a', attrs={'data-track' : 'video'})"
   ],
   "metadata": {
    "collapsed": false
   }
  },
  {
   "cell_type": "markdown",
   "source": [],
   "metadata": {
    "collapsed": false
   }
  },
  {
   "cell_type": "code",
   "execution_count": 70,
   "outputs": [
    {
     "data": {
      "text/plain": "                                           Highlight  \\\n0  https://videos.nba.com/nba/pbp/media/2014/10/2...   \n1  https://videos.nba.com/nba/pbp/media/2014/10/2...   \n2  https://videos.nba.com/nba/pbp/media/2014/10/2...   \n\n                                               Title  \n0                    MISS Thompson 25' 3PT Jump Shot  \n1                        Curry REBOUND (Off:0 Def:1)  \n2  Curry Bad Pass Turnover (P1.T1)#@#Collison STE...  ",
      "text/html": "<div>\n<style scoped>\n    .dataframe tbody tr th:only-of-type {\n        vertical-align: middle;\n    }\n\n    .dataframe tbody tr th {\n        vertical-align: top;\n    }\n\n    .dataframe thead th {\n        text-align: right;\n    }\n</style>\n<table border=\"1\" class=\"dataframe\">\n  <thead>\n    <tr style=\"text-align: right;\">\n      <th></th>\n      <th>Highlight</th>\n      <th>Title</th>\n    </tr>\n  </thead>\n  <tbody>\n    <tr>\n      <th>0</th>\n      <td>https://videos.nba.com/nba/pbp/media/2014/10/2...</td>\n      <td>MISS Thompson 25' 3PT Jump Shot</td>\n    </tr>\n    <tr>\n      <th>1</th>\n      <td>https://videos.nba.com/nba/pbp/media/2014/10/2...</td>\n      <td>Curry REBOUND (Off:0 Def:1)</td>\n    </tr>\n    <tr>\n      <th>2</th>\n      <td>https://videos.nba.com/nba/pbp/media/2014/10/2...</td>\n      <td>Curry Bad Pass Turnover (P1.T1)#@#Collison STE...</td>\n    </tr>\n  </tbody>\n</table>\n</div>"
     },
     "execution_count": 70,
     "metadata": {},
     "output_type": "execute_result"
    }
   ],
   "source": [
    "linksClassDf.head(100)\n",
    "\n",
    "# print(len(all_data))\n",
    "#\n",
    "# with open('VideoTitleData.csv', 'w', newline='') as csvfile:\n",
    "#     writer = csv.writer(csvfile, delimiter=' ', quotechar='|', quoting=csv.QUOTE_MINIMAL)\n",
    "#     writer.writerow(['Video Link', 'Classify'])\n",
    "#     for i in range(len(all_data)):\n",
    "#         writer.writerow([all_data[0]['href']])"
   ],
   "metadata": {
    "collapsed": false
   }
  },
  {
   "cell_type": "code",
   "execution_count": null,
   "outputs": [],
   "source": [],
   "metadata": {
    "collapsed": false
   }
  }
 ],
 "metadata": {
  "kernelspec": {
   "display_name": "Python 3",
   "language": "python",
   "name": "python3"
  },
  "language_info": {
   "codemirror_mode": {
    "name": "ipython",
    "version": 2
   },
   "file_extension": ".py",
   "mimetype": "text/x-python",
   "name": "python",
   "nbconvert_exporter": "python",
   "pygments_lexer": "ipython2",
   "version": "2.7.6"
  }
 },
 "nbformat": 4,
 "nbformat_minor": 0
}
