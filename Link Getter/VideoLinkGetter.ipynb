{
 "cells": [
  {
   "cell_type": "code",
   "execution_count": 21,
   "metadata": {
    "collapsed": true
   },
   "outputs": [],
   "source": [
    "import requests\n",
    "import csv\n",
    "import time\n",
    "import pandas as pd\n",
    "import numpy as np\n",
    "\n",
    "import random\n",
    "\n",
    "from seleniumwire import webdriver\n",
    "from selenium.webdriver.chrome.service import Service as BraveService\n",
    "from webdriver_manager.chrome import ChromeDriverManager\n",
    "from webdriver_manager.core.utils import ChromeType\n",
    "\n",
    "\n",
    "\n",
    "\n",
    "from selenium.webdriver.support.ui import WebDriverWait\n",
    "from selenium.webdriver.common.by import By\n",
    "from selenium.webdriver.support import expected_conditions as EC\n",
    "import os.path\n",
    "import time\n"
   ]
  },
  {
   "cell_type": "markdown",
   "source": [],
   "metadata": {
    "collapsed": false
   }
  },
  {
   "cell_type": "code",
   "execution_count": 24,
   "outputs": [
    {
     "name": "stdout",
     "output_type": "stream",
     "text": [
      "6001\n",
      "1\n",
      "2\n",
      "3\n",
      "4\n",
      "5\n",
      "6\n",
      "7\n",
      "8\n",
      "9\n",
      "10\n",
      "11\n",
      "12\n",
      "13\n",
      "14\n",
      "15\n",
      "16\n",
      "17\n",
      "18\n",
      "19\n",
      "20\n",
      "21\n",
      "22\n",
      "23\n",
      "24\n",
      "25\n",
      "26\n",
      "27\n",
      "28\n",
      "29\n",
      "30\n",
      "31\n",
      "32\n",
      "33\n",
      "34\n",
      "35\n",
      "36\n",
      "37\n",
      "38\n",
      "39\n",
      "40\n",
      "41\n",
      "42\n",
      "43\n",
      "44\n",
      "45\n",
      "46\n",
      "47\n",
      "48\n",
      "49\n",
      "50\n"
     ]
    }
   ],
   "source": [
    "\n",
    "URL = \"https://www.nba.com/stats/events?CFID=&CFPARAMS=&ContextMeasure=FGA&GameID=&PlayerID=0&Season=2022-23&SeasonType=Regular%20Season&TeamID=1610612750&flag=3&sct=plot&section=game\"\n",
    "\n",
    "fileName = \"MISS\" #This will be for later, in case we want to save\n",
    "wantedLink = \"FGA\" #This is the category we want\n",
    "NUMVIDS = 50 #Number of video per each link\n",
    "LINK_INDEX = 3\n",
    "\n",
    "wantedFilterOn = True #Wanted Filter Bool, set to False if wanted list is empty.\n",
    "#The title must have ALL substring in wanted list and NONE substring in unwanted list to get included.\n",
    "wantedTitleStrList = [\"MISS\"] #List of substring to look for in the title.\n",
    "unWantedTitleStrList = [\"BLOCK\"] #List of substring that will ignore in the title.\n",
    "\n",
    "#Creating the driver\n",
    "driver = webdriver.Chrome(service=BraveService(ChromeDriverManager(chrome_type=ChromeType.BRAVE).install()))\n",
    "\n",
    "\n",
    "wait = WebDriverWait(driver, 1)\n",
    "\n",
    "\n",
    "\n",
    "\n",
    "###########################################################################################################\n",
    "# AllVidsDf = pd.DataFrame()\n",
    "# categoryDf = pd.read_csv('CategoryLinks.csv')\n",
    "# # Putting the wanted category in the wanted string\n",
    "# wantedDf = categoryDf[categoryDf['links'].str.contains(wantedLink)==True]\n",
    "#\n",
    "# main_url = \"https://www.nba.com\" + wantedDf[\"links\"].loc[wantedDf.index[LINK_INDEX - 1]]\n",
    "\n",
    "\n",
    "driver.get(URL)\n",
    "\n",
    "time.sleep(5)\n",
    "#This is to set the page to list all the video\n",
    "all = None\n",
    "for i in range(0,10):\n",
    "    try:\n",
    "        # connect\n",
    "        all = wait.until(EC.presence_of_element_located((By.XPATH, \"//option[@value = '-1']\")))\n",
    "    except:\n",
    "         pass\n",
    "\n",
    "all.click()\n",
    "\n",
    "wait.until(EC.presence_of_element_located((By.XPATH,\"//tr[@data-has-video='true']\")))\n",
    "AllVidElement = driver.find_elements(By.XPATH, '//tr[@data-has-video=\"true\"]')\n",
    "print(len(AllVidElement))\n",
    "vidDown = 0\n",
    "vidList = []\n",
    "for vidButton in AllVidElement:\n",
    "    driver.execute_script(\"arguments[0].click();\", vidButton)\n",
    "    videoElement = wait.until(EC.presence_of_element_located((By.XPATH, \"//video\")))\n",
    "    vidLinks = videoElement.get_attribute(\"src\")\n",
    "    titleElement = driver.find_element(By.TAG_NAME, 'h2')\n",
    "    titleString = titleElement.text\n",
    "    unwantedBool = any(ele in titleString for ele in unWantedTitleStrList)\n",
    "    wantedBool = (not wantedFilterOn or any(ele in titleString for ele in wantedTitleStrList))\n",
    "    if not wantedBool or unwantedBool:\n",
    "        continue\n",
    "\n",
    "    #add it to our list\n",
    "    vidList.append({'link' : vidLinks, 'title': titleString})\n",
    "    vidDown = vidDown + 1\n",
    "    print(vidDown)\n",
    "    if vidDown >= NUMVIDS:\n",
    "        break\n",
    "\n",
    "vidDf = pd.DataFrame(vidList)\n",
    "driver.quit()\n",
    "\n"
   ],
   "metadata": {
    "collapsed": false
   }
  },
  {
   "cell_type": "markdown",
   "source": [
    "0The code below will save the links we got to an existing csv file by appending it"
   ],
   "metadata": {
    "collapsed": false
   }
  },
  {
   "cell_type": "code",
   "execution_count": 25,
   "outputs": [
    {
     "name": "stdout",
     "output_type": "stream",
     "text": [
      "(349, 2)\n"
     ]
    }
   ],
   "source": [
    "path = \"Saved/\"\n",
    "finalFileName = path + fileName + \".csv\"\n",
    "\n",
    "try:\n",
    "    test = pd.read_csv(finalFileName)\n",
    "except:\n",
    "    vidDf.to_csv(finalFileName, index= False,  header=True)\n",
    "else:\n",
    "    vidDf.to_csv(finalFileName, mode='a', index= False, header=False)\n",
    "\n",
    "#The Code below is used to filter out the duplicates\n",
    "df = pd.read_csv(finalFileName)\n",
    "df = df.drop_duplicates(subset=[\"link\"], keep=\"first\")\n",
    "print(df.shape)\n",
    "df.to_csv(finalFileName, index= False, header=True)\n",
    "\n"
   ],
   "metadata": {
    "collapsed": false
   }
  },
  {
   "cell_type": "markdown",
   "source": [],
   "metadata": {
    "collapsed": false
   }
  }
 ],
 "metadata": {
  "kernelspec": {
   "display_name": "Python 3",
   "language": "python",
   "name": "python3"
  },
  "language_info": {
   "codemirror_mode": {
    "name": "ipython",
    "version": 2
   },
   "file_extension": ".py",
   "mimetype": "text/x-python",
   "name": "python",
   "nbconvert_exporter": "python",
   "pygments_lexer": "ipython2",
   "version": "2.7.6"
  }
 },
 "nbformat": 4,
 "nbformat_minor": 0
}
