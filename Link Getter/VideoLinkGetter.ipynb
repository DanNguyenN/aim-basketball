{
 "cells": [
  {
   "cell_type": "code",
   "execution_count": 1,
   "metadata": {
    "collapsed": true
   },
   "outputs": [],
   "source": [
    "import requests\n",
    "import csv\n",
    "import pandas as pd\n",
    "import numpy as mp\n",
    "from selenium import webdriver\n",
    "from selenium.webdriver.chrome.options import Options\n",
    "from selenium.webdriver.chrome.service import Service\n",
    "from webdriver_manager.chrome import ChromeDriverManager\n",
    "\n",
    "from selenium.webdriver.support.ui import WebDriverWait\n",
    "from selenium.webdriver.common.by import By\n",
    "from selenium.webdriver.support import expected_conditions as EC\n",
    "import os\n",
    "import time\n",
    "\n",
    "options = Options()\n",
    "options.add_argument(\"--disable-features=PreloadMediaEngagementData, MediaEngagementBypassAutoplayPolicies\")\n",
    "options.add_argument(\"--incognito --window-size=1000,800\")\n",
    "options.add_argument(\"--enable-popup-blocking\")\n",
    "options.add_extension(\"AutoplayStopper.crx\")\n"
   ]
  },
  {
   "cell_type": "markdown",
   "source": [],
   "metadata": {
    "collapsed": false
   }
  },
  {
   "cell_type": "code",
   "execution_count": null,
   "outputs": [
    {
     "name": "stdout",
     "output_type": "stream",
     "text": [
      "7010\n"
     ]
    },
    {
     "name": "stderr",
     "output_type": "stream",
     "text": [
      "C:\\Users\\danng\\AppData\\Local\\Temp\\ipykernel_45336\\2893847049.py:60: FutureWarning: The frame.append method is deprecated and will be removed from pandas in a future version. Use pandas.concat instead.\n",
      "  linksClassDf = linksClassDf.append([{'Highlight' : vidLinks, 'Title' : titleString}], ignore_index = True)\n",
      "C:\\Users\\danng\\AppData\\Local\\Temp\\ipykernel_45336\\2893847049.py:60: FutureWarning: The frame.append method is deprecated and will be removed from pandas in a future version. Use pandas.concat instead.\n",
      "  linksClassDf = linksClassDf.append([{'Highlight' : vidLinks, 'Title' : titleString}], ignore_index = True)\n",
      "C:\\Users\\danng\\AppData\\Local\\Temp\\ipykernel_45336\\2893847049.py:60: FutureWarning: The frame.append method is deprecated and will be removed from pandas in a future version. Use pandas.concat instead.\n",
      "  linksClassDf = linksClassDf.append([{'Highlight' : vidLinks, 'Title' : titleString}], ignore_index = True)\n",
      "C:\\Users\\danng\\AppData\\Local\\Temp\\ipykernel_45336\\2893847049.py:60: FutureWarning: The frame.append method is deprecated and will be removed from pandas in a future version. Use pandas.concat instead.\n",
      "  linksClassDf = linksClassDf.append([{'Highlight' : vidLinks, 'Title' : titleString}], ignore_index = True)\n",
      "C:\\Users\\danng\\AppData\\Local\\Temp\\ipykernel_45336\\2893847049.py:60: FutureWarning: The frame.append method is deprecated and will be removed from pandas in a future version. Use pandas.concat instead.\n",
      "  linksClassDf = linksClassDf.append([{'Highlight' : vidLinks, 'Title' : titleString}], ignore_index = True)\n",
      "C:\\Users\\danng\\AppData\\Local\\Temp\\ipykernel_45336\\2893847049.py:60: FutureWarning: The frame.append method is deprecated and will be removed from pandas in a future version. Use pandas.concat instead.\n",
      "  linksClassDf = linksClassDf.append([{'Highlight' : vidLinks, 'Title' : titleString}], ignore_index = True)\n",
      "C:\\Users\\danng\\AppData\\Local\\Temp\\ipykernel_45336\\2893847049.py:60: FutureWarning: The frame.append method is deprecated and will be removed from pandas in a future version. Use pandas.concat instead.\n",
      "  linksClassDf = linksClassDf.append([{'Highlight' : vidLinks, 'Title' : titleString}], ignore_index = True)\n",
      "C:\\Users\\danng\\AppData\\Local\\Temp\\ipykernel_45336\\2893847049.py:60: FutureWarning: The frame.append method is deprecated and will be removed from pandas in a future version. Use pandas.concat instead.\n",
      "  linksClassDf = linksClassDf.append([{'Highlight' : vidLinks, 'Title' : titleString}], ignore_index = True)\n",
      "C:\\Users\\danng\\AppData\\Local\\Temp\\ipykernel_45336\\2893847049.py:60: FutureWarning: The frame.append method is deprecated and will be removed from pandas in a future version. Use pandas.concat instead.\n",
      "  linksClassDf = linksClassDf.append([{'Highlight' : vidLinks, 'Title' : titleString}], ignore_index = True)\n",
      "C:\\Users\\danng\\AppData\\Local\\Temp\\ipykernel_45336\\2893847049.py:60: FutureWarning: The frame.append method is deprecated and will be removed from pandas in a future version. Use pandas.concat instead.\n",
      "  linksClassDf = linksClassDf.append([{'Highlight' : vidLinks, 'Title' : titleString}], ignore_index = True)\n",
      "C:\\Users\\danng\\AppData\\Local\\Temp\\ipykernel_45336\\2893847049.py:60: FutureWarning: The frame.append method is deprecated and will be removed from pandas in a future version. Use pandas.concat instead.\n",
      "  linksClassDf = linksClassDf.append([{'Highlight' : vidLinks, 'Title' : titleString}], ignore_index = True)\n",
      "C:\\Users\\danng\\AppData\\Local\\Temp\\ipykernel_45336\\2893847049.py:60: FutureWarning: The frame.append method is deprecated and will be removed from pandas in a future version. Use pandas.concat instead.\n",
      "  linksClassDf = linksClassDf.append([{'Highlight' : vidLinks, 'Title' : titleString}], ignore_index = True)\n",
      "C:\\Users\\danng\\AppData\\Local\\Temp\\ipykernel_45336\\2893847049.py:60: FutureWarning: The frame.append method is deprecated and will be removed from pandas in a future version. Use pandas.concat instead.\n",
      "  linksClassDf = linksClassDf.append([{'Highlight' : vidLinks, 'Title' : titleString}], ignore_index = True)\n",
      "C:\\Users\\danng\\AppData\\Local\\Temp\\ipykernel_45336\\2893847049.py:60: FutureWarning: The frame.append method is deprecated and will be removed from pandas in a future version. Use pandas.concat instead.\n",
      "  linksClassDf = linksClassDf.append([{'Highlight' : vidLinks, 'Title' : titleString}], ignore_index = True)\n",
      "C:\\Users\\danng\\AppData\\Local\\Temp\\ipykernel_45336\\2893847049.py:60: FutureWarning: The frame.append method is deprecated and will be removed from pandas in a future version. Use pandas.concat instead.\n",
      "  linksClassDf = linksClassDf.append([{'Highlight' : vidLinks, 'Title' : titleString}], ignore_index = True)\n",
      "C:\\Users\\danng\\AppData\\Local\\Temp\\ipykernel_45336\\2893847049.py:60: FutureWarning: The frame.append method is deprecated and will be removed from pandas in a future version. Use pandas.concat instead.\n",
      "  linksClassDf = linksClassDf.append([{'Highlight' : vidLinks, 'Title' : titleString}], ignore_index = True)\n",
      "C:\\Users\\danng\\AppData\\Local\\Temp\\ipykernel_45336\\2893847049.py:60: FutureWarning: The frame.append method is deprecated and will be removed from pandas in a future version. Use pandas.concat instead.\n",
      "  linksClassDf = linksClassDf.append([{'Highlight' : vidLinks, 'Title' : titleString}], ignore_index = True)\n",
      "C:\\Users\\danng\\AppData\\Local\\Temp\\ipykernel_45336\\2893847049.py:60: FutureWarning: The frame.append method is deprecated and will be removed from pandas in a future version. Use pandas.concat instead.\n",
      "  linksClassDf = linksClassDf.append([{'Highlight' : vidLinks, 'Title' : titleString}], ignore_index = True)\n",
      "C:\\Users\\danng\\AppData\\Local\\Temp\\ipykernel_45336\\2893847049.py:60: FutureWarning: The frame.append method is deprecated and will be removed from pandas in a future version. Use pandas.concat instead.\n",
      "  linksClassDf = linksClassDf.append([{'Highlight' : vidLinks, 'Title' : titleString}], ignore_index = True)\n",
      "C:\\Users\\danng\\AppData\\Local\\Temp\\ipykernel_45336\\2893847049.py:60: FutureWarning: The frame.append method is deprecated and will be removed from pandas in a future version. Use pandas.concat instead.\n",
      "  linksClassDf = linksClassDf.append([{'Highlight' : vidLinks, 'Title' : titleString}], ignore_index = True)\n",
      "C:\\Users\\danng\\AppData\\Local\\Temp\\ipykernel_45336\\2893847049.py:60: FutureWarning: The frame.append method is deprecated and will be removed from pandas in a future version. Use pandas.concat instead.\n",
      "  linksClassDf = linksClassDf.append([{'Highlight' : vidLinks, 'Title' : titleString}], ignore_index = True)\n",
      "C:\\Users\\danng\\AppData\\Local\\Temp\\ipykernel_45336\\2893847049.py:60: FutureWarning: The frame.append method is deprecated and will be removed from pandas in a future version. Use pandas.concat instead.\n",
      "  linksClassDf = linksClassDf.append([{'Highlight' : vidLinks, 'Title' : titleString}], ignore_index = True)\n",
      "C:\\Users\\danng\\AppData\\Local\\Temp\\ipykernel_45336\\2893847049.py:60: FutureWarning: The frame.append method is deprecated and will be removed from pandas in a future version. Use pandas.concat instead.\n",
      "  linksClassDf = linksClassDf.append([{'Highlight' : vidLinks, 'Title' : titleString}], ignore_index = True)\n",
      "C:\\Users\\danng\\AppData\\Local\\Temp\\ipykernel_45336\\2893847049.py:60: FutureWarning: The frame.append method is deprecated and will be removed from pandas in a future version. Use pandas.concat instead.\n",
      "  linksClassDf = linksClassDf.append([{'Highlight' : vidLinks, 'Title' : titleString}], ignore_index = True)\n",
      "C:\\Users\\danng\\AppData\\Local\\Temp\\ipykernel_45336\\2893847049.py:60: FutureWarning: The frame.append method is deprecated and will be removed from pandas in a future version. Use pandas.concat instead.\n",
      "  linksClassDf = linksClassDf.append([{'Highlight' : vidLinks, 'Title' : titleString}], ignore_index = True)\n"
     ]
    },
    {
     "name": "stdout",
     "output_type": "stream",
     "text": [
      "6666\n"
     ]
    },
    {
     "name": "stderr",
     "output_type": "stream",
     "text": [
      "C:\\Users\\danng\\AppData\\Local\\Temp\\ipykernel_45336\\2893847049.py:60: FutureWarning: The frame.append method is deprecated and will be removed from pandas in a future version. Use pandas.concat instead.\n",
      "  linksClassDf = linksClassDf.append([{'Highlight' : vidLinks, 'Title' : titleString}], ignore_index = True)\n",
      "C:\\Users\\danng\\AppData\\Local\\Temp\\ipykernel_45336\\2893847049.py:60: FutureWarning: The frame.append method is deprecated and will be removed from pandas in a future version. Use pandas.concat instead.\n",
      "  linksClassDf = linksClassDf.append([{'Highlight' : vidLinks, 'Title' : titleString}], ignore_index = True)\n",
      "C:\\Users\\danng\\AppData\\Local\\Temp\\ipykernel_45336\\2893847049.py:60: FutureWarning: The frame.append method is deprecated and will be removed from pandas in a future version. Use pandas.concat instead.\n",
      "  linksClassDf = linksClassDf.append([{'Highlight' : vidLinks, 'Title' : titleString}], ignore_index = True)\n",
      "C:\\Users\\danng\\AppData\\Local\\Temp\\ipykernel_45336\\2893847049.py:60: FutureWarning: The frame.append method is deprecated and will be removed from pandas in a future version. Use pandas.concat instead.\n",
      "  linksClassDf = linksClassDf.append([{'Highlight' : vidLinks, 'Title' : titleString}], ignore_index = True)\n",
      "C:\\Users\\danng\\AppData\\Local\\Temp\\ipykernel_45336\\2893847049.py:60: FutureWarning: The frame.append method is deprecated and will be removed from pandas in a future version. Use pandas.concat instead.\n",
      "  linksClassDf = linksClassDf.append([{'Highlight' : vidLinks, 'Title' : titleString}], ignore_index = True)\n",
      "C:\\Users\\danng\\AppData\\Local\\Temp\\ipykernel_45336\\2893847049.py:60: FutureWarning: The frame.append method is deprecated and will be removed from pandas in a future version. Use pandas.concat instead.\n",
      "  linksClassDf = linksClassDf.append([{'Highlight' : vidLinks, 'Title' : titleString}], ignore_index = True)\n",
      "C:\\Users\\danng\\AppData\\Local\\Temp\\ipykernel_45336\\2893847049.py:60: FutureWarning: The frame.append method is deprecated and will be removed from pandas in a future version. Use pandas.concat instead.\n",
      "  linksClassDf = linksClassDf.append([{'Highlight' : vidLinks, 'Title' : titleString}], ignore_index = True)\n",
      "C:\\Users\\danng\\AppData\\Local\\Temp\\ipykernel_45336\\2893847049.py:60: FutureWarning: The frame.append method is deprecated and will be removed from pandas in a future version. Use pandas.concat instead.\n",
      "  linksClassDf = linksClassDf.append([{'Highlight' : vidLinks, 'Title' : titleString}], ignore_index = True)\n",
      "C:\\Users\\danng\\AppData\\Local\\Temp\\ipykernel_45336\\2893847049.py:60: FutureWarning: The frame.append method is deprecated and will be removed from pandas in a future version. Use pandas.concat instead.\n",
      "  linksClassDf = linksClassDf.append([{'Highlight' : vidLinks, 'Title' : titleString}], ignore_index = True)\n",
      "C:\\Users\\danng\\AppData\\Local\\Temp\\ipykernel_45336\\2893847049.py:60: FutureWarning: The frame.append method is deprecated and will be removed from pandas in a future version. Use pandas.concat instead.\n",
      "  linksClassDf = linksClassDf.append([{'Highlight' : vidLinks, 'Title' : titleString}], ignore_index = True)\n",
      "C:\\Users\\danng\\AppData\\Local\\Temp\\ipykernel_45336\\2893847049.py:60: FutureWarning: The frame.append method is deprecated and will be removed from pandas in a future version. Use pandas.concat instead.\n",
      "  linksClassDf = linksClassDf.append([{'Highlight' : vidLinks, 'Title' : titleString}], ignore_index = True)\n",
      "C:\\Users\\danng\\AppData\\Local\\Temp\\ipykernel_45336\\2893847049.py:60: FutureWarning: The frame.append method is deprecated and will be removed from pandas in a future version. Use pandas.concat instead.\n",
      "  linksClassDf = linksClassDf.append([{'Highlight' : vidLinks, 'Title' : titleString}], ignore_index = True)\n",
      "C:\\Users\\danng\\AppData\\Local\\Temp\\ipykernel_45336\\2893847049.py:60: FutureWarning: The frame.append method is deprecated and will be removed from pandas in a future version. Use pandas.concat instead.\n",
      "  linksClassDf = linksClassDf.append([{'Highlight' : vidLinks, 'Title' : titleString}], ignore_index = True)\n",
      "C:\\Users\\danng\\AppData\\Local\\Temp\\ipykernel_45336\\2893847049.py:60: FutureWarning: The frame.append method is deprecated and will be removed from pandas in a future version. Use pandas.concat instead.\n",
      "  linksClassDf = linksClassDf.append([{'Highlight' : vidLinks, 'Title' : titleString}], ignore_index = True)\n",
      "C:\\Users\\danng\\AppData\\Local\\Temp\\ipykernel_45336\\2893847049.py:60: FutureWarning: The frame.append method is deprecated and will be removed from pandas in a future version. Use pandas.concat instead.\n",
      "  linksClassDf = linksClassDf.append([{'Highlight' : vidLinks, 'Title' : titleString}], ignore_index = True)\n",
      "C:\\Users\\danng\\AppData\\Local\\Temp\\ipykernel_45336\\2893847049.py:60: FutureWarning: The frame.append method is deprecated and will be removed from pandas in a future version. Use pandas.concat instead.\n",
      "  linksClassDf = linksClassDf.append([{'Highlight' : vidLinks, 'Title' : titleString}], ignore_index = True)\n",
      "C:\\Users\\danng\\AppData\\Local\\Temp\\ipykernel_45336\\2893847049.py:60: FutureWarning: The frame.append method is deprecated and will be removed from pandas in a future version. Use pandas.concat instead.\n",
      "  linksClassDf = linksClassDf.append([{'Highlight' : vidLinks, 'Title' : titleString}], ignore_index = True)\n",
      "C:\\Users\\danng\\AppData\\Local\\Temp\\ipykernel_45336\\2893847049.py:60: FutureWarning: The frame.append method is deprecated and will be removed from pandas in a future version. Use pandas.concat instead.\n",
      "  linksClassDf = linksClassDf.append([{'Highlight' : vidLinks, 'Title' : titleString}], ignore_index = True)\n",
      "C:\\Users\\danng\\AppData\\Local\\Temp\\ipykernel_45336\\2893847049.py:60: FutureWarning: The frame.append method is deprecated and will be removed from pandas in a future version. Use pandas.concat instead.\n",
      "  linksClassDf = linksClassDf.append([{'Highlight' : vidLinks, 'Title' : titleString}], ignore_index = True)\n",
      "C:\\Users\\danng\\AppData\\Local\\Temp\\ipykernel_45336\\2893847049.py:60: FutureWarning: The frame.append method is deprecated and will be removed from pandas in a future version. Use pandas.concat instead.\n",
      "  linksClassDf = linksClassDf.append([{'Highlight' : vidLinks, 'Title' : titleString}], ignore_index = True)\n",
      "C:\\Users\\danng\\AppData\\Local\\Temp\\ipykernel_45336\\2893847049.py:60: FutureWarning: The frame.append method is deprecated and will be removed from pandas in a future version. Use pandas.concat instead.\n",
      "  linksClassDf = linksClassDf.append([{'Highlight' : vidLinks, 'Title' : titleString}], ignore_index = True)\n",
      "C:\\Users\\danng\\AppData\\Local\\Temp\\ipykernel_45336\\2893847049.py:60: FutureWarning: The frame.append method is deprecated and will be removed from pandas in a future version. Use pandas.concat instead.\n",
      "  linksClassDf = linksClassDf.append([{'Highlight' : vidLinks, 'Title' : titleString}], ignore_index = True)\n",
      "C:\\Users\\danng\\AppData\\Local\\Temp\\ipykernel_45336\\2893847049.py:60: FutureWarning: The frame.append method is deprecated and will be removed from pandas in a future version. Use pandas.concat instead.\n",
      "  linksClassDf = linksClassDf.append([{'Highlight' : vidLinks, 'Title' : titleString}], ignore_index = True)\n",
      "C:\\Users\\danng\\AppData\\Local\\Temp\\ipykernel_45336\\2893847049.py:60: FutureWarning: The frame.append method is deprecated and will be removed from pandas in a future version. Use pandas.concat instead.\n",
      "  linksClassDf = linksClassDf.append([{'Highlight' : vidLinks, 'Title' : titleString}], ignore_index = True)\n",
      "C:\\Users\\danng\\AppData\\Local\\Temp\\ipykernel_45336\\2893847049.py:60: FutureWarning: The frame.append method is deprecated and will be removed from pandas in a future version. Use pandas.concat instead.\n",
      "  linksClassDf = linksClassDf.append([{'Highlight' : vidLinks, 'Title' : titleString}], ignore_index = True)\n"
     ]
    }
   ],
   "source": [
    "fileName = \"MISS\" #This will be for later, in case we want to save\n",
    "wantedLink = \"FGA\" #This is the category we want\n",
    "NUMLINKS = 5 #This is the number of links will be used,\n",
    "NUMVIDSPERLINK = 25 #Number of video per each link\n",
    "\n",
    "wantedFilterOn = True #Wanted Filter Bool, set to False if wanted list is empty.\n",
    "#The title must have ALL substring in wanted list and NONE substring in unwanted list to get included.\n",
    "wantedTitleStrList = [\"MISS\"] #List of substring to look for in the title.\n",
    "unWantedTitleStrList = [\"BLOCK\"] #List of substring that will ignore in the title.\n",
    "\n",
    "\n",
    "###########################################################################################################\n",
    "linksClassDf = pd.DataFrame()\n",
    "driver = webdriver.Chrome(service=Service(ChromeDriverManager().install()), options=options)\n",
    "wait = WebDriverWait(driver, 5)\n",
    "\n",
    "categoryDf = pd.read_csv('CategoryLinks.csv')\n",
    "# Putting the wanted category in the wanted string\n",
    "wantedDf = categoryDf[categoryDf['links'].str.contains(wantedLink)==True]\n",
    "\n",
    "linkUsed = 0\n",
    "for index, row in wantedDf.iterrows():\n",
    "    main_url = \"https://www.nba.com/\" + row[\"links\"]\n",
    "    driver.get(main_url)\n",
    "    #This is to set the page to list all the video\n",
    "    try:\n",
    "        closePopUp = wait.until(EC.presence_of_element_located((By.XPATH, \"//button[@data-click='close']\")))\n",
    "        closePopUp.click()\n",
    "    except:\n",
    "        try:\n",
    "            closePopUp = wait.until(EC.presence_of_element_located((By.XPATH, \"//button[@aria-label='Close Message']\")))\n",
    "            closePopUp.click()\n",
    "        except:\n",
    "            pass\n",
    "\n",
    "    all = None\n",
    "    while all is None:\n",
    "        try:\n",
    "            # connect\n",
    "            all = wait.until(EC.presence_of_element_located((By.XPATH, \"//option[@value = '-1']\")))\n",
    "        except:\n",
    "             pass\n",
    "\n",
    "    all.click()\n",
    "    #driver.execute_script(\"arguments[0].click();\", all)\n",
    "\n",
    "\n",
    "    wait.until(EC.presence_of_element_located((By.XPATH,\"//tr[@data-has-video='true']\")))\n",
    "    AllVidElement = driver.find_elements(By.XPATH, '//tr[@data-has-video=\"true\"]')\n",
    "    print(len(AllVidElement))\n",
    "    vidDown = 0\n",
    "    for vidButton in AllVidElement:\n",
    "        driver.execute_script(\"arguments[0].click();\", vidButton)\n",
    "        videoElement = wait.until(EC.presence_of_element_located((By.XPATH, \"//video\")))\n",
    "        vidLinks = videoElement.get_attribute(\"src\")\n",
    "        titleElement = driver.find_element(By.TAG_NAME, 'h2')\n",
    "        titleString = titleElement.text\n",
    "        unwantedBool = any(ele in titleString for ele in unWantedTitleStrList)\n",
    "        wantedBool = (not wantedFilterOn or any(ele in titleString for ele in wantedTitleStrList))\n",
    "        if not wantedBool or unwantedBool:\n",
    "            continue\n",
    "\n",
    "        #add it to our dataframe\n",
    "        linksClassDf = linksClassDf.append([{'Highlight' : vidLinks, 'Title' : titleString}], ignore_index = True)\n",
    "        vidDown = vidDown + 1\n",
    "        if vidDown >= NUMVIDSPERLINK:\n",
    "            break\n",
    "    if linkUsed >= NUMLINKS:\n",
    "        break\n",
    "\n",
    "driver.close()\n"
   ],
   "metadata": {
    "collapsed": false,
    "pycharm": {
     "is_executing": true
    }
   }
  },
  {
   "cell_type": "markdown",
   "source": [
    "The code below will save the links we got to a csv file"
   ],
   "metadata": {
    "collapsed": false
   }
  },
  {
   "cell_type": "code",
   "execution_count": null,
   "outputs": [],
   "source": [
    "linksClassDf.head(100)\n",
    "fileName = fileName + \".csv\"\n",
    "linksClassDf.to_csv(fileName)\n"
   ],
   "metadata": {
    "collapsed": false,
    "pycharm": {
     "is_executing": true
    }
   }
  },
  {
   "cell_type": "code",
   "execution_count": null,
   "outputs": [],
   "source": [],
   "metadata": {
    "collapsed": false,
    "pycharm": {
     "is_executing": true
    }
   }
  },
  {
   "cell_type": "code",
   "execution_count": null,
   "outputs": [],
   "source": [],
   "metadata": {
    "collapsed": false
   }
  }
 ],
 "metadata": {
  "kernelspec": {
   "display_name": "Python 3",
   "language": "python",
   "name": "python3"
  },
  "language_info": {
   "codemirror_mode": {
    "name": "ipython",
    "version": 2
   },
   "file_extension": ".py",
   "mimetype": "text/x-python",
   "name": "python",
   "nbconvert_exporter": "python",
   "pygments_lexer": "ipython2",
   "version": "2.7.6"
  }
 },
 "nbformat": 4,
 "nbformat_minor": 0
}
